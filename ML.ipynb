{
 "cells": [
  {
   "cell_type": "code",
   "execution_count": 2,
   "metadata": {},
   "outputs": [],
   "source": [
    "# 주어진 데이터셋으로 다양한 머신러닝을 적용해보자."
   ]
  },
  {
   "cell_type": "code",
   "execution_count": 3,
   "metadata": {},
   "outputs": [
    {
     "name": "stderr",
     "output_type": "stream",
     "text": [
      "c:\\USERS\\DILAB\\ANACONDA3\\ENVS\\ML\\lib\\site-packages\\sklearn\\utils\\deprecation.py:86: FutureWarning: Function make_blobs is deprecated; Please import make_blobs directly from scikit-learn\n",
      "  warnings.warn(msg, category=FutureWarning)\n"
     ]
    },
    {
     "data": {
      "image/png": "[encoded data removed]",
      "text/plain": [
       "<Figure size 432x288 with 1 Axes>"
      ]
     },
     "metadata": {
      "needs_background": "light"
     },
     "output_type": "display_data"
    }
   ],
   "source": [
    "import mglearn\n",
    "from matplotlib import pyplot as plt\n",
    "\n",
    "mglearn.plots.plot_knn_classification(n_neighbors=1)\n",
    "plt.show()"
   ]
  },
  {
   "cell_type": "code",
   "execution_count": 4,
   "metadata": {},
   "outputs": [
    {
     "name": "stderr",
     "output_type": "stream",
     "text": [
      "c:\\USERS\\DILAB\\ANACONDA3\\ENVS\\ML\\lib\\site-packages\\sklearn\\utils\\deprecation.py:86: FutureWarning: Function make_blobs is deprecated; Please import make_blobs directly from scikit-learn\n",
      "  warnings.warn(msg, category=FutureWarning)\n"
     ]
    }
   ],
   "source": [
    "# dataset : make_forge\n",
    "from sklearn.model_selection import train_test_split\n",
    "X,y = mglearn.datasets.make_forge()\n",
    "X_train, X_test, y_train, y_test = train_test_split(X,y,stratify=y, random_state=42)"
   ]
  },
  {
   "cell_type": "code",
   "execution_count": 5,
   "metadata": {},
   "outputs": [
    {
     "name": "stdout",
     "output_type": "stream",
     "text": [
      "[[ 9.50169345  1.93824624]\n",
      " [ 9.32298256  5.09840649]\n",
      " [ 8.18378052  1.29564214]\n",
      " [10.06393839  0.99078055]\n",
      " [ 8.92229526 -0.63993225]\n",
      " [ 9.25694192  5.13284858]\n",
      " [ 9.50048972 -0.26430318]\n",
      " [ 8.69289001  1.54322016]\n",
      " [11.563957    1.3389402 ]\n",
      " [ 8.1062269   4.28695977]\n",
      " [11.0329545  -0.16816717]\n",
      " [ 9.17748385  5.09283177]\n",
      " [ 8.34810316  5.13415623]\n",
      " [ 9.49123469  4.33224792]\n",
      " [11.93027136  4.64866327]\n",
      " [ 7.99815287  4.8525051 ]\n",
      " [11.54155807  5.21116083]\n",
      " [ 8.67494727  4.47573059]\n",
      " [ 9.96346605  4.59676542]] (19, 2)\n",
      "[0 1 0 0 0 1 0 0 0 0 0 1 1 1 1 1 1 1 1] (19,)\n"
     ]
    }
   ],
   "source": [
    "print(X_train,X_train.shape)\n",
    "print(y_train, y_train.shape)"
   ]
  },
  {
   "cell_type": "code",
   "execution_count": 6,
   "metadata": {},
   "outputs": [],
   "source": [
    "# KNN 알고리즘 사용, 이웃 숫 = 3\n",
    "from sklearn.neighbors import KNeighborsClassifier\n",
    "clf = KNeighborsClassifier(n_neighbors=3).fit(X_train,y_train)"
   ]
  },
  {
   "cell_type": "code",
   "execution_count": 7,
   "metadata": {},
   "outputs": [
    {
     "data": {
      "text/plain": [
       "array([1, 0, 1, 0, 0, 0, 0])"
      ]
     },
     "execution_count": 7,
     "metadata": {},
     "output_type": "execute_result"
    }
   ],
   "source": [
    "clf.predict(X_test) # 학습된 것으로 예측하기"
   ]
  },
  {
   "cell_type": "code",
   "execution_count": 8,
   "metadata": {},
   "outputs": [
    {
     "data": {
      "text/plain": [
       "0.8571428571428571"
      ]
     },
     "execution_count": 8,
     "metadata": {},
     "output_type": "execute_result"
    }
   ],
   "source": [
    "clf.score(X_test,y_test)        # 정확도 구하기"
   ]
  },
  {
   "cell_type": "code",
   "execution_count": 10,
   "metadata": {},
   "outputs": [],
   "source": [
    "# 유방암 데이터셋 사용, KNN 알고리즘 사용\n",
    "\n",
    "from sklearn.datasets import load_breast_cancer\n",
    "cancer = load_breast_cancer()\n",
    "\n",
    "from sklearn.model_selection import train_test_split\n",
    "X_train, X_test, y_train, y_test = train_test_split(cancer.data, cancer.target, stratify=cancer.target, random_state=42)"
   ]
  },
  {
   "cell_type": "code",
   "execution_count": 11,
   "metadata": {},
   "outputs": [
    {
     "data": {
      "text/plain": [
       "((569, 30), (569,))"
      ]
     },
     "execution_count": 11,
     "metadata": {},
     "output_type": "execute_result"
    }
   ],
   "source": [
    "cancer.data.shape, cancer.target.shape\n",
    "# 데이터셋의 열의 개수가 30개일 때"
   ]
  },
  {
   "cell_type": "code",
   "execution_count": 14,
   "metadata": {},
   "outputs": [
    {
     "data": {
      "image/png": "[encoded data removed]",
      "text/plain": [
       "<Figure size 432x288 with 1 Axes>"
      ]
     },
     "metadata": {
      "needs_background": "light"
     },
     "output_type": "display_data"
    }
   ],
   "source": [
    "# 열이 1개가 아닐때에는 선형모델을 사용하지 못한다.\n",
    "# 그럼 어떤 모델을 사용해야할까? 여기서는 KNN(KNeighborsClassifier)을 사용했다.\n",
    "\n",
    "training_accuracy = []\n",
    "test_accuracy = []\n",
    "neighbors_settings = range(1,11)\n",
    "\n",
    "from matplotlib import pyplot as plt\n",
    "from sklearn.neighbors import KNeighborsClassifier\n",
    "for n_neighbors in neighbors_settings:   # 이웃의 개수를 1개부터 10개까지 늘려가며 실험한다.\n",
    "    clf = KNeighborsClassifier(n_neighbors=n_neighbors)\n",
    "    clf.fit(X_train,y_train)        # Train 셋으로 학습시킴\n",
    "    training_accuracy.append(clf.score(X_train,y_train))    # Train셋의 정확도\n",
    "    test_accuracy.append(clf.score(X_train,y_train))        # Test셋의 정확도\n",
    "    \n",
    "plt.plot(neighbors_settings, training_accuracy, label=\"training accuracy\")  # x축 : 이웃 수, y축 : 학습 정확도\n",
    "plt.plot(neighbors_settings, test_accuracy, label=\"test_accuracy\")      # x축 : 이웃 수, y축 : 테스트 정확도\n",
    "plt.ylabel('accuarcy')\n",
    "plt.xlabel('neighbors')\n",
    "plt.legend()\n",
    "plt.show()\n",
    "# 이웃수가 증가함에 따라 정확도가 낮아짐을 알 수 있다."
   ]
  },
  {
   "cell_type": "code",
   "execution_count": null,
   "metadata": {},
   "outputs": [],
   "source": []
  }
 ],
 "metadata": {
  "kernelspec": {
   "display_name": "ML",
   "language": "python",
   "name": "python3"
  },
  "language_info": {
   "codemirror_mode": {
    "name": "ipython",
    "version": 3
   },
   "file_extension": ".py",
   "mimetype": "text/x-python",
   "name": "python",
   "nbconvert_exporter": "python",
   "pygments_lexer": "ipython3",
   "version": "3.6.13"
  },
  "orig_nbformat": 4,
  "vscode": {
   "interpreter": {
    "hash": "2e8f52d53744bab9df2366e28fcd47600d1941925779b826ac9e9f110ccdebbb"
   }
  }
 },
 "nbformat": 4,
 "nbformat_minor": 2
}
